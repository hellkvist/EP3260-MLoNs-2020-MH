{
 "cells": [
  {
   "cell_type": "markdown",
   "metadata": {},
   "source": [
    "# Computer Assignment 3 -- Group 2\n",
    "* Ali Bemani\n",
    "* Oscar Bautista Gonzalez\n",
    "* Martin Hellkvist\n",
    "\n",
    "Consider the optimization problem \n",
    "\n",
    "$$  \\min_{W_1, W_2, w_3} \\frac{1}{N} \\sum_{i\\in[N]} \\lVert w_3 s(W_2 s(W_1 x_i)) - y_i \\rVert_2^2,  $$\n",
    "where $$ s(x) = 1/(1 + \\exp(-x)) . $$ You may add your choice of regularizer.\n",
    "Using the \"Inividual household electri power consumption\" and \"Greenhouse Gas Observing Network\" datasets, address the following questions.\n",
    "\n",
    "a) Try to solve this optimization task with proper choices of size of decision variables ($W_1, W_2, w_3$) using GD, \n",
    "perturbed GD,\n",
    "SGD,\n",
    "SVRG and block coordinate descent.\n",
    "For the SGD method, you may use the mini-batch version.\n",
    "\n",
    "b) Compare these solvers in terms of complexity of hyper-parameter tuning,\n",
    "convergence time, \n",
    "convergence rate (in terms of # outer-loop iterations), \n",
    "and memory requirement."
   ]
  },
  {
   "cell_type": "markdown",
   "metadata": {},
   "source": [
    "   ## Implementation"
   ]
  },
  {
   "cell_type": "code",
   "execution_count": 1,
   "metadata": {},
   "outputs": [
    {
     "name": "stdout",
     "output_type": "stream",
     "text": [
      "Failed on importing 'resource' package, continuing wihtout it!\n"
     ]
    }
   ],
   "source": [
    "##imports from libraries\n",
    "import pandas as pd\n",
    "import numpy as np\n",
    "import time\n",
    "import math\n",
    "import sys\n",
    "import matplotlib.pyplot as plt\n",
    "\n",
    "from sklearn.model_selection import train_test_split\n",
    "from IPython.core.debugger import set_trace\n",
    "\n",
    "\n",
    "# the \"resource\" library is not available on windows. \n",
    "# if it can be imported, we can use it! For example, while running on google colab\n",
    "try:\n",
    "    import resource\n",
    "    print(\"Succesfully imported 'resource' package\")\n",
    "except:\n",
    "    print(\"Failed on importing 'resource' package, continuing wihtout it!\")"
   ]
  },
  {
   "cell_type": "markdown",
   "metadata": {},
   "source": [
    "## Load Data and preprocess"
   ]
  },
  {
   "cell_type": "markdown",
   "metadata": {},
   "source": [
    "### Load Greenhouse data"
   ]
  },
  {
   "cell_type": "code",
   "execution_count": 2,
   "metadata": {
    "scrolled": true
   },
   "outputs": [],
   "source": [
    "N_sites = 70\n",
    "N_cols = 327\n",
    "dghg = 15 # input length for data\n",
    "Nghg = N_sites * N_cols\n",
    "ghgdata = np.zeros((dghg+1, Nghg))\n",
    "\n",
    "pathprefix = \"./Data/ghg_data/ghg_data/ghg.gid.site\"\n",
    "for i in range(N_sites):\n",
    "    filename = pathprefix + str(i + 1).zfill(4) + \".dat\"\n",
    "    subdata = np.genfromtxt(filename, delimiter=\" \")\n",
    "    ghgdata[:,i*N_cols:(i+1)*N_cols] = subdata\n",
    "\n",
    "ghgdata = ghgdata.T"
   ]
  },
  {
   "cell_type": "code",
   "execution_count": 3,
   "metadata": {},
   "outputs": [
    {
     "data": {
      "image/png": "[encoded data removed]",
      "text/plain": [
       "<matplotlib.figure.Figure at 0x162975437f0>"
      ]
     },
     "metadata": {
      "needs_background": "light"
     },
     "output_type": "display_data"
    },
    {
     "data": {
      "image/png": "[encoded data removed]",
      "text/plain": [
       "<matplotlib.figure.Figure at 0x162974208d0>"
      ]
     },
     "metadata": {
      "needs_background": "light"
     },
     "output_type": "display_data"
    }
   ],
   "source": [
    "Xg = ghgdata[:, 0:dghg]\n",
    "Yg = ghgdata[:, [dghg]]\n",
    "plt.figure(1)\n",
    "_ = plt.hist(Yg, bins=100)\n",
    "\n",
    "# threshold Y to binary\n",
    "threshold = 30\n",
    "mask = Yg < threshold\n",
    "Yg[mask] = -1\n",
    "Yg[~mask] = 1\n",
    "plt.figure(2)\n",
    "_ = plt.hist(Yg)\n",
    "\n",
    "Ng = Xg.shape[0]\n",
    "assert Xg.shape[1] == dghg\n",
    "assert Yg.shape[0] == Ng"
   ]
  },
  {
   "cell_type": "markdown",
   "metadata": {},
   "source": [
    "### Load Household data"
   ]
  },
  {
   "cell_type": "code",
   "execution_count": 4,
   "metadata": {},
   "outputs": [],
   "source": [
    "data = pd.read_csv(\"./Data/household_power_consumption/household_power_consumption.txt\", sep=\";\", low_memory=False)"
   ]
  },
  {
   "cell_type": "code",
   "execution_count": 5,
   "metadata": {},
   "outputs": [
    {
     "name": "stdout",
     "output_type": "stream",
     "text": [
      "Global_reactive_power    0\n",
      "Voltage                  0\n",
      "Global_intensity         0\n",
      "Sub_metering_1           0\n",
      "Sub_metering_2           0\n",
      "Sub_metering_3           0\n",
      "dtype: int64\n",
      "0\n"
     ]
    }
   ],
   "source": [
    "data.dropna(axis=0, inplace=True)\n",
    "\n",
    "Xh = data.iloc[:, 3:9]\n",
    "yh = data.iloc[:, 2]\n",
    "\n",
    "print(Xh.isna().sum())\n",
    "print(yh.isna().sum())\n",
    "\n",
    "Xh = Xh.to_numpy(dtype = np.dtype).astype(np.float)\n",
    "yh = yh.to_numpy(dtype = np.dtype).astype(np.float).reshape(-1,1) # make as column vector of dimension (N,1)\n",
    "\n",
    "Nh, dh = Xh.shape\n",
    "assert yh.shape[0] == Nh"
   ]
  },
  {
   "cell_type": "markdown",
   "metadata": {},
   "source": [
    "## Implementation"
   ]
  },
  {
   "cell_type": "markdown",
   "metadata": {},
   "source": [
    "### Define Cost Function and its Gradient\n",
    "\n",
    "We use the Least Squares cost with the output estimate from a neural network:\n",
    "\n",
    "$$L(x,y; W_1, W_2, w_3) = \\frac{1}{N} \\sum_{i\\in[N]} (  w_3 s(W_2 s(W_1 x_i)) - y_i )^2,$$\n",
    "\n",
    "where $s$ is the sigmoid function.\n",
    "\n",
    "We will be using the following definitions:\n",
    "\n",
    "\n",
    "$$ \\begin{align} \n",
    "    & z^{(1)}_i = W^{(1)} x_i \\\\ \n",
    "    & a^{(1)}_i = s(z^{(1)}_i) \\\\ \n",
    "    & z^{(2)}_i = W^{(2)} a^{(1)}_i \\\\\n",
    "    & a^{(2)}_i = s(z^{(2)}_i) \\\\\n",
    "    & \\hat{y}_i = w^{(3)} a^{(2)}_i\n",
    "    \\end{align}$$\n",
    "\n",
    "The gradient w.r.t. $w^{(3)}$ is \n",
    "\n",
    "$$ \\frac{\\partial L}{\\partial w^{(3)}} = \n",
    "\\frac{\\partial L}{\\partial \\hat{y}} \n",
    "\\frac{\\partial \\hat{y}}{\\partial w^{(3)}} = \n",
    "2(\\hat{y} - y)(a^{(2)})^T = \\delta^0 (a^{(2)})^T. $$\n",
    "\n",
    "The gradient w.r.t. $W^{(2)}$ is \n",
    "\n",
    "$$ \\frac{\\partial L_i}{\\partial W^{(2)}} = \n",
    "\\frac{\\partial L}{\\partial \\hat{y}}\n",
    "\\frac{\\partial \\hat{y}}{\\partial a^{(2)}}\n",
    "\\frac{\\partial a^{(2)}}{\\partial z^{(2)}}\n",
    "\\frac{\\partial z^{(2)}}{\\partial W^{(2)}} = \n",
    "\\delta^1  \\delta^0  (a^{(1)})^T. $$\n",
    "\n",
    "The gradient w.r.t. $W^{(1)}$ is\n",
    "\n",
    "$$ \\frac{\\partial L_i}{\\partial W^{(1)}} = \n",
    "\\frac{\\partial L}{\\partial \\hat{y}}\n",
    "\\frac{\\partial \\hat{y}}{\\partial a^{(2)}}\n",
    "\\frac{\\partial a^{(2)}}{\\partial z^{(2)}}\n",
    "\\frac{\\partial z^{(2)}}{\\partial a^{(1)}}\n",
    "\\frac{\\partial a^{(1)}}{\\partial z^{(1)}}\n",
    "\\frac{\\partial z^{(1)}}{\\partial W^{(1)}}\n",
    "= \\delta^2 \\delta^1 \\delta^0x^T. $$\n",
    "\n",
    "Definitions:\n",
    "$$\\delta^0 = 2(\\hat{y} - y) \\in R^{1\\times 1},~~\\delta^1=(W^{(3)} diag(s'(z^{(2)})))^T,~~\\delta^2=(W^{(2)} diag(s'(z^{(1)})))^T $$"
   ]
  },
  {
   "cell_type": "code",
   "execution_count": 6,
   "metadata": {
    "code_folding": []
   },
   "outputs": [],
   "source": [
    "def initialize_network(n_inputs, N_hidden_layers, n_hidden_layers):\n",
    "    \"\"\" Initialize a NN with n_inputs inputs, \n",
    "    N_hidden_layers number of hidden layers, \n",
    "    n_hidden_layers is size of each hidden layer\"\"\"\n",
    "    \n",
    "    network = list()\n",
    "    \n",
    "    input_layer = [{\"input\": np.random.random(size=(n_hidden_layers, n_inputs))}]\n",
    "    network.append(input_layer)\n",
    "    \n",
    "    for i in range(1, N_hidden_layers):\n",
    "        hidden_deep = [{\"W\"+str(i+1): np.random.random(size=(n_hidden_layers, n_hidden_layers))}]\n",
    "        network.append(hidden_deep)\n",
    "    \n",
    "    output = [{\"output\": np.random.random(size=(1, n_hidden_layers))}]\n",
    "    network.append(output)\n",
    "    \n",
    "    return network"
   ]
  },
  {
   "cell_type": "code",
   "execution_count": 7,
   "metadata": {
    "code_folding": []
   },
   "outputs": [],
   "source": [
    "# define getter and setter functions for the network\n",
    "def get_values(layer):\n",
    "    return list(layer[0].values())[0]\n",
    "def get_key(layer):\n",
    "    return list(layer[0].keys())[0]\n",
    "def get_dim_layer(layer):\n",
    "    return get_values(layer).shape\n",
    "def get_num_layers(network):\n",
    "    return len(network)\n",
    "def set_values(W, network, index):\n",
    "    layer = network[index]\n",
    "    key = get_key(layer)\n",
    "    layer[0][key] = W"
   ]
  },
  {
   "cell_type": "code",
   "execution_count": 8,
   "metadata": {
    "code_folding": []
   },
   "outputs": [],
   "source": [
    "def nn_forward(x, network):\n",
    "    #### Wants input as column vector (d, 1)\n",
    "    d = x.shape[0]\n",
    "    assert d == get_values(network[0]).shape[1]\n",
    "    Z_ = list()\n",
    "    A_ = [x]\n",
    "    for layer in network:\n",
    "        W = get_values(layer)\n",
    "        key = get_key(layer)\n",
    "        if (key == \"input\"):\n",
    "            z = W @ x\n",
    "        elif (key == \"output\"):\n",
    "            y_hat = W @ a_\n",
    "            break\n",
    "        else:\n",
    "            z = W @ a_\n",
    "        a_ = sigmoid(z)\n",
    "        Z_.append(z)\n",
    "        A_.append(a_)\n",
    "    return y_hat, Z_, A_"
   ]
  },
  {
   "cell_type": "code",
   "execution_count": 9,
   "metadata": {
    "code_folding": [
     1,
     3
    ]
   },
   "outputs": [],
   "source": [
    "def sigmoid(x):\n",
    "    return 1.0/(1.0 + np.exp(-x))\n",
    "def sigmoid_prime(x):\n",
    "    s = sigmoid(x)\n",
    "    return s*(1 - s)"
   ]
  },
  {
   "cell_type": "markdown",
   "metadata": {},
   "source": [
    "$$\\delta^0 = 2(\\hat{y} - y) \\in R^{1\\times 1},~~\\delta^1=(W^{(3)} diag(s'(z^{(2)})))^T,~~\\delta^2=(W^{(2)} diag(s'(z^{(1)})))^T $$"
   ]
  },
  {
   "cell_type": "code",
   "execution_count": 10,
   "metadata": {
    "code_folding": []
   },
   "outputs": [],
   "source": [
    "def nn_backward_prop(network, X, Y):\n",
    "#     set_trace()\n",
    "    N_data = X.shape[0]\n",
    "    d_out = Y.shape[1]\n",
    "    assert Y.shape[0] == N_data\n",
    "    \n",
    "    N_layers = get_num_layers(network)\n",
    "    \n",
    "    Y_hat_ = np.zeros((N_data, d_out))\n",
    "    \n",
    "    G_ = []\n",
    "    \n",
    "    for layer in network:\n",
    "        G_.append(np.zeros(get_dim_layer(layer)))\n",
    "    \n",
    "    # compute all estimates\n",
    "    for i in range(N_data):\n",
    "        x = X[[i], :].T\n",
    "        y = Y[[i], :].T\n",
    "        y_hat, Z_, A_ = nn_forward(x, network)\n",
    "        Y_hat_[i] = y_hat\n",
    "        \n",
    "        err_ = y_hat - y\n",
    "        \n",
    "        delta_ = [2*err_]\n",
    "        for i in reversed(range(1, N_layers)): # 2, 1\n",
    "            W = get_values(network[i])\n",
    "            z = Z_[i-1]\n",
    "            s_prime = sigmoid_prime(z).flatten()\n",
    "#             set_trace()\n",
    "            delta = (W @ np.diag(s_prime)).T\n",
    "            delta_.append(delta)\n",
    "            \n",
    "        D = np.identity(np.max(delta_[0].shape)) # initialize D\n",
    "#         set_trace()\n",
    "        for i in reversed(range(N_layers)): # 2, 1, 0\n",
    "            D = delta_[N_layers - (i+1)] @ D\n",
    "#             set_trace()\n",
    "            G_[i] += D @ A_[i].T\n",
    "    return G_"
   ]
  },
  {
   "cell_type": "code",
   "execution_count": 11,
   "metadata": {
    "code_folding": []
   },
   "outputs": [],
   "source": [
    "def cost(X, Y, network):\n",
    "    N = X.shape[0]\n",
    "    assert Y.shape[0] == N\n",
    "    cost = 0\n",
    "    for i in range(N):\n",
    "        x = X[[i], :].T\n",
    "        y = Y[[i], :].T\n",
    "#         set_trace()\n",
    "        y_hat, _, _ = nn_forward(x, network)\n",
    "        cost += (1/N) * (y_hat - y)**2\n",
    "    return cost"
   ]
  },
  {
   "cell_type": "code",
   "execution_count": 25,
   "metadata": {
    "code_folding": [
     23,
     42,
     97
    ]
   },
   "outputs": [],
   "source": [
    "def solver(X, Y, X_test, Y_test, network, alpha, num_iters, lambda_, epsilon, optimizer = \"GD\", mem=False, return_cost=False, verbose=True):\n",
    "    stop_flag = 1\n",
    "    if (optimizer == \"GD\"):\n",
    "        cost_ = np.zeros(num_iters)\n",
    "        for i in range(num_iters):\n",
    "            G_ = nn_backward_prop(network, X, Y) # compute the exact gradient wrt w, given x and y\n",
    "            for k, g in enumerate(G_):\n",
    "                W = get_values(network[k])\n",
    "                W = W - alpha * g # GD update\n",
    "                set_values(W, network, k)\n",
    "                \n",
    "            if return_cost:\n",
    "#                 set_trace()\n",
    "                cost_[i] = cost(X_test, Y_test, network)\n",
    "                \n",
    "#             if (np.linalg.norm(g) <= epsilon):\n",
    "#                 print(\"GD: Stop on condition fulfilled! Number of iterations: \", i+1, \"/\", num_iters)\n",
    "#                 stop_flag = 0\n",
    "#                 break\n",
    "        if (verbose) and (stop_flag):\n",
    "            print(\"GD: Number of iterations: \", num_iters, \"/\", num_iters)\n",
    "            print(\"GD: final norm: \", np.linalg.norm(g))\n",
    "                \n",
    "    elif (optimizer == \"SGD\"):\n",
    "        cost_ = np.zeros(num_iters)\n",
    "        N, d = x.shape\n",
    "        assert y.shape == (N,1)\n",
    "        for i in range(num_iters):\n",
    "            i_ = int(N*np.random.rand(1))\n",
    "            x_ = x[[i_], :]\n",
    "            y_ = y[[i_], :]\n",
    "            \n",
    "            g = function_gradient(x_, y_, w, lambda_) # compute gradient\n",
    "            w = w - alpha * g # GD update \n",
    "            \n",
    "            if return_cost:\n",
    "                cost_[i] = cost(X_test, Y_test, w, lambda_)\n",
    "            \n",
    "            if (i%10==0) and (mem) and ('resource' in sys.modules) and (verbose):\n",
    "                usage=resource.getrusage(resource.RUSAGE_SELF)\n",
    "                print(\"mem for SGD (mb):\", (usage[2]*resource.getpagesize())/1000000.0)\n",
    "                \n",
    "    elif (optimizer == \"SVRG\"):\n",
    "        N, d = x.shape\n",
    "        assert y.shape == (N,1)\n",
    "        \n",
    "        T = 1000 # epoch length\n",
    "        K = math.floor(num_iters/T) # number of epochs, given number of iterations\n",
    "        \n",
    "        if K == 0:\n",
    "            # only run for one epoch consisting of num_iters iterations\n",
    "            K = 1\n",
    "            T = num_iters\n",
    "        if verbose:\n",
    "            print(\"number of epochs: \", K)\n",
    "        cost_ = np.zeros(T*K)\n",
    "        \n",
    "        for k in range(K):\n",
    "            yx = y * x # (N, d)\n",
    "            yxw = yx @ w # (N, 1)\n",
    "            \n",
    "            assert yx.shape == (N, d)\n",
    "            assert yxw.shape == (N, 1)\n",
    "            \n",
    "            # G_ is equal to using function_gradient, but we need G_vec, so we compute it manually here\n",
    "            exp_vec = 1/(1 + np.exp(yxw)) # (N, 1)\n",
    "            \n",
    "            G_vec = (-yx * exp_vec).reshape(d, N) + 2*lambda_*w # (d, N)\n",
    "                                    \n",
    "            G_ = (1/N) * np.sum(G_vec, axis=1, keepdims=1) # (d, 1)\n",
    "            if (np.linalg.norm(G_) <= epsilon): # check the average gradient\n",
    "                print(\"SVRG: Stop on condition fulfilled! Number of iterations: \", k*t, \"/\", num_iters)\n",
    "                break\n",
    "            \n",
    "            assert G_vec.shape == (d, N)\n",
    "            assert G_.shape == (d, 1)\n",
    "            \n",
    "            for t in range(T):\n",
    "                i_ = int(N*np.random.rand(1))\n",
    "                x_ = x[[i_], :] # (1, d)\n",
    "                y_ = y[[i_], :] # (1, 1)\n",
    "                g = function_gradient(x_, y_, w, lambda_) # (d, 1)\n",
    "                assert g.shape == (d,1)\n",
    "                assert G_vec[:, [i_]].shape == (d,1)\n",
    "                assert G_.shape == (d,1)\n",
    "                w = w - alpha*(g - G_vec[:, [i_]] + G_)\n",
    "                \n",
    "                if return_cost:\n",
    "                    cost_[t + k*T] = cost(X_test, Y_test, w, lambda_)\n",
    "                    \n",
    "                if (t%10==0) and (mem) and ('resource' in sys.modules) and (verbose):\n",
    "                    usage=resource.getrusage(resource.RUSAGE_SELF)\n",
    "                    print(\"mem for SVRG (mb):\", (usage[2]*resource.getpagesize())/1000000.0)\n",
    "                    \n",
    "        if (K > 0) and (verbose):\n",
    "            print(\"SVRG: final norm: \", np.linalg.norm(g))\n",
    "            \n",
    "    elif (optimizer == \"SAG\"):\n",
    "        N, d = x.shape\n",
    "        assert y.shape == (N,1)\n",
    "        \n",
    "        # compute initial gradient estimates for all datapoints\n",
    "        yx = y * x # (N, d)\n",
    "        yxw = yx @ w # (N, 1)\n",
    "        exp_vec = 1/(1 + np.exp(yxw)) # (N, 1)\n",
    "        G_vec = np.zeros((d, N))\n",
    "        cost_ = np.zeros(num_iters)\n",
    "        g_avg = np.zeros((d,1))\n",
    "        for k in range(num_iters):\n",
    "            i_ = int(N*np.random.rand(1))\n",
    "            x_ = x[[i_], :] # (1, d)\n",
    "            y_ = y[[i_], :] # (1, 1)\n",
    "            g = function_gradient(x_, y_, w, lambda_) # (d, 1)\n",
    "            g_avg = g_avg - G_vec[:, [i_]] + g\n",
    "            G_vec[:, [i_]] = g # (d, N)\n",
    "            w = w - (alpha/N) * g_avg\n",
    "            if return_cost:\n",
    "                cost_[k] = cost(X_test, Y_test, w, lambda_)\n",
    "                \n",
    "            if (np.linalg.norm(g) <= epsilon):\n",
    "                    print(\"SAG: Stop on condition fulfilled! Number of iterations: \", k, \"/\", num_iters)\n",
    "                    break\n",
    "                    \n",
    "            if (k%10==0) and (mem) and ('resource' in sys.modules) and (verbose):\n",
    "                    usage=resource.getrusage(resource.RUSAGE_SELF)\n",
    "                    print(\"mem for SAG (mb):\", (usage[2]*resource.getpagesize())/1000000.0)\n",
    "        if verbose:\n",
    "            print(\"final norm: \", np.linalg.norm(g))\n",
    "    if return_cost:\n",
    "        return cost_"
   ]
  },
  {
   "cell_type": "markdown",
   "metadata": {},
   "source": [
    "## Run on GHG observations"
   ]
  },
  {
   "cell_type": "code",
   "execution_count": 40,
   "metadata": {},
   "outputs": [],
   "source": [
    "N_train = 1000\n",
    "N_test = 1000\n",
    "X_train = Xg[0:N_train, :]\n",
    "Y_train = Yg[0:N_train, :]\n",
    "X_test = Xg[N_train:N_train + N_test, :]\n",
    "Y_test = Yg[N_train:N_train+N_test, :]\n",
    "\n",
    "d = X_train.shape[1] # input size\n",
    "n_hidden_layers = 2 # number of hidden layers\n",
    "d_hidden = 2*d # number of neuron in each hidden layer\n",
    "\n",
    "network_init = initialize_network(d, n_hidden_layers, d_hidden)\n",
    "# plt.figure()\n",
    "# plt.hist(Y_train)\n",
    "# plt.figure()\n",
    "# plt.hist(Y_test)"
   ]
  },
  {
   "cell_type": "markdown",
   "metadata": {},
   "source": [
    "### GD"
   ]
  },
  {
   "cell_type": "code",
   "execution_count": null,
   "metadata": {},
   "outputs": [
    {
     "name": "stderr",
     "output_type": "stream",
     "text": [
      "C:\\Users\\marti\\.conda\\envs\\p36\\lib\\site-packages\\ipykernel_launcher.py:2: RuntimeWarning: overflow encountered in exp\n",
      "  \n"
     ]
    }
   ],
   "source": [
    "np.set_printoptions(precision=None)\n",
    "alpha = 1e-5\n",
    "num_iters = 1000\n",
    "lambda_ = 0\n",
    "epsilon = 0\n",
    "cost_ = solver(X_train, Y_train, X_test, Y_test, network_init, alpha, num_iters, lambda_, epsilon, optimizer = \"GD\", mem=False, return_cost=True, verbose=True)\n"
   ]
  },
  {
   "cell_type": "code",
   "execution_count": 50,
   "metadata": {
    "scrolled": false
   },
   "outputs": [
    {
     "name": "stdout",
     "output_type": "stream",
     "text": [
      "[0.9998322195 0.9998322186 0.9998322177 0.9998322167 0.9998322158\n",
      " 0.9998322149 0.999832214  0.9998322131 0.9998322122 0.9998322112\n",
      " 0.9998322103 0.9998322094 0.9998322085 0.9998322076 0.9998322066\n",
      " 0.9998322057 0.9998322048 0.9998322039 0.999832203  0.9998322021\n",
      " 0.9998322011 0.9998322002 0.9998321993 0.9998321984 0.9998321975\n",
      " 0.9998321965 0.9998321956 0.9998321947 0.9998321938 0.9998321929\n",
      " 0.9998321919 0.999832191  0.9998321901 0.9998321892 0.9998321883\n",
      " 0.9998321874 0.9998321864 0.9998321855 0.9998321846 0.9998321837\n",
      " 0.9998321828 0.9998321818 0.9998321809 0.99983218   0.9998321791\n",
      " 0.9998321782 0.9998321772 0.9998321763 0.9998321754 0.9998321745\n",
      " 0.9998321736 0.9998321727 0.9998321717 0.9998321708 0.9998321699\n",
      " 0.999832169  0.9998321681 0.9998321671 0.9998321662 0.9998321653\n",
      " 0.9998321644 0.9998321635 0.9998321625 0.9998321616 0.9998321607\n",
      " 0.9998321598 0.9998321589 0.999832158  0.999832157  0.9998321561\n",
      " 0.9998321552 0.9998321543 0.9998321534 0.9998321524 0.9998321515\n",
      " 0.9998321506 0.9998321497 0.9998321488 0.9998321478 0.9998321469\n",
      " 0.999832146  0.9998321451 0.9998321442 0.9998321432 0.9998321423\n",
      " 0.9998321414 0.9998321405 0.9998321396 0.9998321387 0.9998321377\n",
      " 0.9998321368 0.9998321359 0.999832135  0.9998321341 0.9998321331\n",
      " 0.9998321322 0.9998321313 0.9998321304 0.9998321295 0.9998321285]\n"
     ]
    },
    {
     "data": {
      "image/png": "[encoded data removed]",
      "text/plain": [
       "<matplotlib.figure.Figure at 0x162991e0630>"
      ]
     },
     "metadata": {
      "needs_background": "light"
     },
     "output_type": "display_data"
    }
   ],
   "source": [
    "plt.plot(cost_)\n",
    "ax = plt.gca()\n",
    "ax.get_yaxis().get_major_formatter().set_useOffset(False)\n",
    "print(cost_)"
   ]
  }
 ],
 "metadata": {
  "kernelspec": {
   "display_name": "Python 3",
   "language": "python",
   "name": "python3"
  },
  "language_info": {
   "codemirror_mode": {
    "name": "ipython",
    "version": 3
   },
   "file_extension": ".py",
   "mimetype": "text/x-python",
   "name": "python",
   "nbconvert_exporter": "python",
   "pygments_lexer": "ipython3",
   "version": "3.6.10"
  },
  "varInspector": {
   "cols": {
    "lenName": 16,
    "lenType": 16,
    "lenVar": 40
   },
   "kernels_config": {
    "python": {
     "delete_cmd_postfix": "",
     "delete_cmd_prefix": "del ",
     "library": "var_list.py",
     "varRefreshCmd": "print(var_dic_list())"
    },
    "r": {
     "delete_cmd_postfix": ") ",
     "delete_cmd_prefix": "rm(",
     "library": "var_list.r",
     "varRefreshCmd": "cat(var_dic_list()) "
    }
   },
   "oldHeight": 383.94345400000003,
   "position": {
    "height": "277.011px",
    "left": "849px",
    "right": "20px",
    "top": "51px",
    "width": "517.057px"
   },
   "types_to_exclude": [
    "module",
    "function",
    "builtin_function_or_method",
    "instance",
    "_Feature"
   ],
   "varInspector_section_display": "block",
   "window_display": false
  }
 },
 "nbformat": 4,
 "nbformat_minor": 4
}
