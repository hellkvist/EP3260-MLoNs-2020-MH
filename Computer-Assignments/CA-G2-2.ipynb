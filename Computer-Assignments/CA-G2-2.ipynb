{
 "cells": [
  {
   "cell_type": "code",
   "execution_count": 53,
   "metadata": {},
   "outputs": [],
   "source": [
    "##imports from libraries\n",
    "import pandas as pd\n",
    "import numpy as np\n",
    "import time\n",
    "import math\n",
    "from sklearn.model_selection import train_test_split\n",
    "import matplotlib.pyplot as plt\n",
    "from IPython.core.debugger import set_trace\n",
    "# import resource"
   ]
  },
  {
   "cell_type": "code",
   "execution_count": 3,
   "metadata": {},
   "outputs": [],
   "source": [
    "def find_smoothness(X, Y, lambda_):\n",
    "    # finds smallest L to guarantee L-smoothness of the Logistic Ridge Regression, given data X, Y\n",
    "    # we have found it analytically as L_guarantee = (1/(4N)) * sum y_i^2 ||x_i||^2 - 2*lambda\n",
    "    \n",
    "    N, d = X.shape\n",
    "    assert Y.shape == (N,1)\n",
    "    \n",
    "    Z = (np.linalg.norm(Y * X, axis=1)**2) # (N,)\n",
    "    L = (1/(4*N)) * np.sum(Z) + 2*lambda_\n",
    "    \n",
    "    return L\n",
    "\n",
    "def find_smallest_smoothness(X, Y, lambda_):\n",
    "    # finds smallest L to guarantee L-smoothness of the Logistic Ridge Regression, given data X, Y\n",
    "    # we have found it analytically as L_guarantee = (1/(4N)) * sum y_i^2 ||x_i||^2 - 2*lambda\n",
    "    \n",
    "    N, d = X.shape\n",
    "    assert Y.shape == (N,1)\n",
    "    \n",
    "    Z = (np.linalg.norm(Y * X, axis=1)**2) # (N,)\n",
    "    L = (1/4) * np.min(Z) + 2*lambda_\n",
    "    \n",
    "    return L\n",
    "\n",
    "def find_median_smoothness(X, Y, lambda_):\n",
    "    # finds smallest L to guarantee L-smoothness of the Logistic Ridge Regression, given data X, Y\n",
    "    # we have found it analytically as L_guarantee = (1/(4N)) * sum y_i^2 ||x_i||^2 - 2*lambda\n",
    "    \n",
    "    N, d = X.shape\n",
    "    assert Y.shape == (N,1)\n",
    "    \n",
    "    Z = (np.linalg.norm(Y * X, axis=1)**2) # (N,)\n",
    "    L = (1/4) * np.median(Z) + 2*lambda_\n",
    "    \n",
    "    return L\n",
    "\n",
    "def find_mean_smoothness(X, Y, lambda_):\n",
    "    # finds smallest L to guarantee L-smoothness of the Logistic Ridge Regression, given data X, Y\n",
    "    # we have found it analytically as L_guarantee = (1/(4N)) * sum y_i^2 ||x_i||^2 - 2*lambda\n",
    "    \n",
    "    N, d = X.shape\n",
    "    assert Y.shape == (N,1)\n",
    "    \n",
    "    Z = (np.linalg.norm(Y * X, axis=1)**2) # (N,)\n",
    "    L = (1/4) * np.mean(Z) + 2*lambda_\n",
    "    \n",
    "    return L"
   ]
  },
  {
   "cell_type": "code",
   "execution_count": 4,
   "metadata": {},
   "outputs": [],
   "source": [
    "## Preprocessing of data\n",
    "# Load data here:\n",
    "\n",
    "N_sites = 2921\n",
    "N_cols = 327\n",
    "dghg = 15\n",
    "Nghg = N_sites * N_cols\n",
    "ghgdata = np.zeros((dghg+1, Nghg))\n",
    "\n",
    "pathprefix = \"./Data/ghg_data/ghg_data/ghg.gid.site\"\n",
    "for i in range(N_sites):\n",
    "    filename = pathprefix + str(i + 1).zfill(4) + \".dat\"\n",
    "    subdata = np.genfromtxt(filename, delimiter=\" \")\n",
    "    ghgdata[:,i*N_cols:(i+1)*N_cols] = subdata\n",
    "\n",
    "ghgdata = ghgdata.T"
   ]
  },
  {
   "cell_type": "code",
   "execution_count": 5,
   "metadata": {},
   "outputs": [
    {
     "data": {
      "image/png": "[encoded data removed]",
      "text/plain": [
       "<Figure size 432x288 with 1 Axes>"
      ]
     },
     "metadata": {
      "needs_background": "light"
     },
     "output_type": "display_data"
    },
    {
     "data": {
      "image/png": "[encoded data removed]",
      "text/plain": [
       "<Figure size 432x288 with 1 Axes>"
      ]
     },
     "metadata": {
      "needs_background": "light"
     },
     "output_type": "display_data"
    }
   ],
   "source": [
    "X = ghgdata[:, 0:dghg]\n",
    "Y = ghgdata[:, [dghg]]\n",
    "plt.figure(1)\n",
    "_ = plt.hist(Y, bins=100)\n",
    "\n",
    "# threshold Y to binary\n",
    "threshold = 30\n",
    "mask = Y < threshold\n",
    "Y[mask] = -1\n",
    "Y[~mask] = 1\n",
    "plt.figure(2)\n",
    "_ = plt.hist(Y)"
   ]
  },
  {
   "cell_type": "code",
   "execution_count": 6,
   "metadata": {},
   "outputs": [],
   "source": [
    "# Split train and test data here: (X_train, Y_train, X_test, Y_test)\n",
    "\n",
    "N_train = math.floor(Nghg*0.75)\n",
    "N_test = math.floor(Nghg*0.25) + 1\n",
    "\n",
    "N_train = 1000\n",
    "N_test = 1000\n",
    "\n",
    "# train_idx = np.random.choice(Nghg, size=N_train, replace=False)\n",
    "train_idx = np.arange(N_train)\n",
    "X_train = X[train_idx, :]\n",
    "Y_train = Y[train_idx]\n",
    "\n",
    "# test_idx_bool = ~np.isin(np.arange(Nghg), train_idx)\n",
    "test_idx = np.arange(N_train, N_train + N_test)\n",
    "X_test = X[test_idx, :]\n",
    "Y_test = Y[test_idx]"
   ]
  },
  {
   "cell_type": "markdown",
   "metadata": {},
   "source": [
    "#### Logistic Ridge regression\n",
    "$$ f(x) = \\frac{1}{N}\\sum_{i\\in[N]} f_i(x) + \\lambda\\lVert w \\rVert_2^2 $$\n",
    "has the gradient: \n",
    "$$ \\nabla f(x) = \\frac{1}{N}\\sum_{i\\in[N]} \\nabla f_i(x) + 2\\lambda w, $$\n",
    "$$ \\nabla f_i(x) = -y_i x_i \\frac{e^{-y_ix_i^T w}}{1 + e^{-y_ix_i^T w}} = -y_i x_i \\frac{1}{1 + e^{y_i x_i^T w}}.$$\n",
    "We use the latter form for computing gradients, since it has better numerical stability.\n",
    "\n",
    "$$ \\hat{g}(w) =  \\nabla f_i(w) + 2 \\lambda w  $$\n",
    "$$ (\\alpha /N ) \\sum \\nabla f_i(w) + 2 \\lambda w $$\n",
    "\n",
    "\n",
    "$$ \\sum_{i=1}^N  y_i^2 x_i x_i^T  $$"
   ]
  },
  {
   "cell_type": "markdown",
   "metadata": {},
   "source": [
    "$$ X = \\begin{bmatrix} y_1 x_1^T \\\\ \\vdots \\\\ y_N x_N^T\\end{bmatrix} $$ "
   ]
  },
  {
   "cell_type": "markdown",
   "metadata": {},
   "source": [
    "$$  X^T X = \\sum y_i^2 x_i x_i^T  $$"
   ]
  },
  {
   "cell_type": "markdown",
   "metadata": {},
   "source": [
    "$$ L I \\geq (1/4N) X^T X + 2\\lambda $$"
   ]
  },
  {
   "cell_type": "code",
   "execution_count": 7,
   "metadata": {},
   "outputs": [],
   "source": [
    "## Logistic ridge regression with different optimizers\n",
    "# cost function and gradient calculation\n",
    "\n",
    "def cost(x, y, w, lambda_ = 0.01):\n",
    "    N, d = x.shape\n",
    "    value = np.sum(np.log(1 + np.exp(- y*x @ w)))\n",
    "    norm_w = np.linalg.norm(w)\n",
    "    c = lambda_ * norm_w ** 2\n",
    "    return value/N + c \n",
    "\n",
    "def function_gradient(X, Y, w, lambda_):\n",
    "#     set_trace()\n",
    "    N, d = X.shape\n",
    "    assert Y.shape == (N,1)\n",
    "    assert w.shape == (d,1)\n",
    "    output = np.zeros((N,1))\n",
    "    YX = Y * X # (N,d)\n",
    "    YXw = YX @ w # (N,1)\n",
    "    exp_vec = 1/(1 + np.exp(YXw)) # (N,1)\n",
    "    grad_array = -YX * exp_vec # (N,d)\n",
    "    output = np.sum(grad_array, axis=0) # (1,d)\n",
    "    output = (1/N) * output.reshape(d,1) + 2 * lambda_ * w # (d,1)\n",
    "    return output # (d,1)"
   ]
  },
  {
   "cell_type": "code",
   "execution_count": 27,
   "metadata": {},
   "outputs": [],
   "source": [
    "# ---------------------- Complete the blank definitions: --------------------------------------\n",
    "\n",
    "def solver(x, y, w, alpha, num_iters, lambda_, epsilon, optimizer = \"GD\", mem=False, return_cost=False):\n",
    "    if (optimizer == \"GD\"):\n",
    "        cost_ = np.zeros(num_iters)\n",
    "        for i in range(num_iters):\n",
    "#             set_trace()\n",
    "            g = function_gradient(x, y, w, lambda_) # compute the exact gradient wrt w, given x and y\n",
    "            w = w - alpha * g # GD update\n",
    "            \n",
    "            if return_cost:\n",
    "                cost_[i] = cost(X_test, Y_test, w, lambda_)\n",
    "            \n",
    "            if (i%10==0) and (mem):\n",
    "                usage=resource.getrusage(resource.RUSAGE_SELF)\n",
    "                print(\"mem for GD (mb):\", (usage[2]*resource.getpagesize())/1000000.0)\n",
    "                        \n",
    "            if (np.linalg.norm(g) <= epsilon):\n",
    "                print(\"GD: Stop on condition fulfilled! Number of iterations: \", i+1, \"/\", num_iters)\n",
    "                break\n",
    "#         print(\"GD: Number of iterations: \", num_iters, \"/\", num_iters)\n",
    "#         print(\"GD: final norm: \", np.linalg.norm(g))\n",
    "                \n",
    "    elif (optimizer == \"SGD\"):\n",
    "        cost_ = np.zeros(num_iters)\n",
    "        N, d = x.shape\n",
    "        assert y.shape == (N,1)\n",
    "        for i in range(num_iters):\n",
    "            i_ = int(N*np.random.rand(1))\n",
    "            x_ = x[[i_], :]\n",
    "            y_ = y[[i_], :]\n",
    "            \n",
    "            g = function_gradient(x_, y_, w, lambda_) # compute gradient\n",
    "            w = w - alpha * g # GD update \n",
    "            \n",
    "            if return_cost:\n",
    "                cost_[i] = cost(X_test, Y_test, w, lambda_)\n",
    "                \n",
    "    elif (optimizer == \"SVRG\"):\n",
    "        N, d = x.shape\n",
    "        assert y.shape == (N,1)\n",
    "        \n",
    "        T = 100 # epoch length\n",
    "        K = math.floor(num_iters/T) # number of epochs, given number of iterations\n",
    "        \n",
    "        if K == 0:\n",
    "            # only run for one epoch consisting of num_iters iterations\n",
    "            K = 1\n",
    "            T = num_iters\n",
    "        \n",
    "        cost_ = np.zeros(T*K)\n",
    "        \n",
    "        for k in range(K):\n",
    "            yx = y * x # (N, d)\n",
    "            yxw = yx @ w # (N, 1)\n",
    "            \n",
    "            assert yx.shape == (N, d)\n",
    "            assert yxw.shape == (N, 1)\n",
    "            \n",
    "            # G_ is equal to using function_gradient, but we need G_vec, so we compute it manually here\n",
    "            exp_vec = 1/(1 + np.exp(yxw)) # (N, 1)\n",
    "            \n",
    "            G_vec = (-yx * exp_vec).reshape(d, N) + 2*lambda_*w # (d, N)\n",
    "                                    \n",
    "            G_ = (1/N) * np.sum(G_vec, axis=1, keepdims=1) # (d, 1)\n",
    "            \n",
    "            if (np.linalg.norm(G_) <= epsilon): # check the average gradient\n",
    "                print(\"SVRG: Stop on condition fulfilled! Number of iterations: \", k*t, \"/\", num_iters)\n",
    "                break\n",
    "            \n",
    "            assert G_vec.shape == (d, N)\n",
    "            assert G_.shape == (d, 1)\n",
    "            \n",
    "            for t in range(T):\n",
    "                i_ = int(N*np.random.rand(1))\n",
    "                x_ = x[[i_], :] # (1, d)\n",
    "                y_ = y[[i_], :] # (1, 1)\n",
    "                g = function_gradient(x_, y_, w, lambda_) # (d, 1)\n",
    "                assert g.shape == (d,1)\n",
    "                assert G_vec[:, [i_]].shape == (d,1)\n",
    "                assert G_.shape == (d,1)\n",
    "                w = w - alpha*(g - G_vec[:, [i_]] + G_)\n",
    "                \n",
    "                if return_cost:\n",
    "                    cost_[t + k*T] = cost(X_test, Y_test, w, lambda_)\n",
    "#         if K > 0:\n",
    "#             print(\"SVRG: final norm: \", np.linalg.norm(g))\n",
    "            \n",
    "    elif (optimizer == \"SAG\"):\n",
    "        N, d = x.shape\n",
    "        assert y.shape == (N,1)\n",
    "        \n",
    "        # compute initial gradient estimates for all datapoints\n",
    "        yx = y * x # (N, d)\n",
    "        yxw = yx @ w # (N, 1)\n",
    "        exp_vec = 1/(1 + np.exp(yxw)) # (N, 1)\n",
    "        G_vec = (-yx * exp_vec).reshape(d, N) + 2 * lambda_ * w # (d, N)\n",
    "        \n",
    "        cost_ = np.zeros(num_iters)\n",
    "        for k in range(num_iters):\n",
    "            #set_trace()\n",
    "            i_ = int(N*np.random.rand(1))\n",
    "            x_ = x[[i_], :] # (1, d)\n",
    "            y_ = y[[i_], :] # (1, 1)\n",
    "            g = function_gradient(x_, y_, w, lambda_) # (d, 1)\n",
    "            G_vec[:, [i_]] = g # (d, N)\n",
    "            w = w - (alpha/N) * np.sum(G_vec, axis=1, keepdims=1) # (d, 1)\n",
    "            if return_cost:\n",
    "                cost_[k] = cost(X_test, Y_test, w, lambda_)\n",
    "                \n",
    "            if (np.linalg.norm(g) <= epsilon):\n",
    "                    print(\"Stop on condition fulfilled! Number of iterations: \", k, \"/\", num_iters)\n",
    "                    break\n",
    "#         print(\"final norm: \", np.linalg.norm(g))\n",
    "    if return_cost:\n",
    "        return w, cost_\n",
    "    else:\n",
    "        return w"
   ]
  },
  {
   "cell_type": "markdown",
   "metadata": {},
   "source": [
    "### Setting the constant stepsize"
   ]
  },
  {
   "cell_type": "code",
   "execution_count": 14,
   "metadata": {},
   "outputs": [],
   "source": [
    "## Define solvers: GD, SGD, SVRG and SAG. \n",
    "# Setting the values here:\n",
    "\n",
    "lambda_ = 100 # change the value 1e-6 is good for full matrices\n",
    "epsilon = 0.000001 # change the value"
   ]
  },
  {
   "cell_type": "code",
   "execution_count": 63,
   "metadata": {},
   "outputs": [
    {
     "name": "stdout",
     "output_type": "stream",
     "text": [
      "(1000, 15)\n",
      "(1000, 1)\n",
      "L 5564.365387800136\n",
      "eigmax 5285.216850825762\n",
      "alpha:  1.1232188334905392e-05\n",
      "0.00017971501335848627\n",
      "0.0001892069953276865\n"
     ]
    }
   ],
   "source": [
    "y = Y_train\n",
    "x = X_train\n",
    "print(x.shape)\n",
    "print(y.shape)\n",
    "N, D = x.shape\n",
    "w = np.random.rand(D,1)*0.1  # Initialization of w\n",
    "\n",
    "# smoothness and convexity\n",
    "L = find_smoothness(x, y, lambda_)\n",
    "print(\"L\", L)\n",
    "alpha = 1/(16*L)\n",
    "\n",
    "eigs, _ = np.linalg.eig((y * x).T @ (y * x))\n",
    "eig_max = np.max(eigs)\n",
    "L_eig = eig_max/4/N\n",
    "print(\"eigmax\", eig_max/4/N)\n",
    "print(\"alpha: \", alpha)\n",
    "print(1/L)\n",
    "print(1/L_eig)"
   ]
  },
  {
   "cell_type": "code",
   "execution_count": 17,
   "metadata": {},
   "outputs": [
    {
     "name": "stdout",
     "output_type": "stream",
     "text": [
      "0.00017971501335848627\n",
      "GD: Stop on condition fulfilled! Number of iterations:  480 / 10000\n",
      "Weights of GD after convergence: \n",
      " [-2.24221603e-06 -4.83258504e-05  2.11638410e-06  3.12940150e-06\n",
      " -3.25129641e-06  1.37425758e-07  7.80331835e-06  2.15384289e-04\n",
      " -1.15940251e-04  3.60719354e-05 -2.57896043e-04  3.64150470e-03\n",
      "  1.03339085e-05  1.53444135e-02  1.70927269e-05]\n",
      "Cost of GD after convergence:  [[0.33051342]]\n",
      "Training time for GD:  0.053862571716308594\n"
     ]
    }
   ],
   "source": [
    "#-------------------- GD Solver -----------------------\n",
    "print(alpha)\n",
    "num_iters = 10000 # change the value\n",
    "start = time.time()\n",
    "gd = solver(x, y, w, alpha, num_iters, lambda_, epsilon, optimizer = \"GD\", mem=False)\n",
    "end = time.time()\n",
    "print(\"Weights of GD after convergence: \\n\", gd.flatten())\n",
    "cost_value = cost(X_test, Y_test, gd, lambda_) \n",
    "print(\"Cost of GD after convergence: \", cost_value)\n",
    "\n",
    "print(\"Training time for GD: \", end-start)"
   ]
  },
  {
   "cell_type": "code",
   "execution_count": 18,
   "metadata": {},
   "outputs": [
    {
     "name": "stdout",
     "output_type": "stream",
     "text": [
      "Weights of SGD after convergence: \n",
      " [0.0620571  0.02379093 0.05105552 0.06679161 0.02018811 0.03756941\n",
      " 0.06743706 0.0087791  0.03969027 0.03683271 0.00508708 0.0294709\n",
      " 0.0325689  0.01199695 0.03137691]\n",
      "Cost of SGD after convergence:  [[2.67715802]]\n",
      "Training time for SGD:  0.0009725093841552734\n"
     ]
    }
   ],
   "source": [
    "#-------------------- SGD Solver -----------------------\n",
    "num_iters = 10 # change the value\n",
    "start = time.time()\n",
    "sgd = solver(x, y, w, alpha, num_iters, lambda_, epsilon, optimizer = \"SGD\", mem=False)\n",
    "end = time.time()\n",
    "print(\"Weights of SGD after convergence: \\n\", sgd.flatten())\n",
    "\n",
    "cost_value = cost(X_test, Y_test, sgd, lambda_)  # Calculate the cost value\n",
    "print(\"Cost of SGD after convergence: \", cost_value)\n",
    "\n",
    "print(\"Training time for SGD: \", end-start)"
   ]
  },
  {
   "cell_type": "code",
   "execution_count": 19,
   "metadata": {},
   "outputs": [
    {
     "name": "stdout",
     "output_type": "stream",
     "text": [
      "\n",
      "Weights of SVRG after convergence: \n",
      " [-0.00120042  0.0006137  -0.0008614  -0.00081234 -0.00326973  0.00277864\n",
      "  0.00041477  0.00187607 -0.0008886   0.00495382  0.00035762  0.00573062\n",
      " -0.0032673   0.01014916 -0.00031914]\n",
      "Cost of SVRG after convergence:  0.36704037659438427\n",
      "Training time for SVRG:  0.37799572944641113\n"
     ]
    }
   ],
   "source": [
    "#-------------------- SVRG Solver -----------------------\n",
    "num_iters = 10000 # change the value\n",
    "start = time.time()\n",
    "svrg = solver(x, y, w, alpha, num_iters, lambda_, epsilon, optimizer=\"SVRG\", mem=False)\n",
    "end = time.time()\n",
    "print(\"\\nWeights of SVRG after convergence: \\n\", svrg.flatten())\n",
    "\n",
    "cost_value = cost(X_test, Y_test, svrg, lambda_)\n",
    "print(\"Cost of SVRG after convergence: \", cost_value[0,0])\n",
    "print(\"Training time for SVRG: \", end-start)"
   ]
  },
  {
   "cell_type": "code",
   "execution_count": 20,
   "metadata": {},
   "outputs": [
    {
     "name": "stdout",
     "output_type": "stream",
     "text": [
      "Weights of SAG after convergence: \n",
      " [0.00184035 0.00065957 0.00153283 0.0019447  0.00064823 0.00099513\n",
      " 0.00248286 0.00036292 0.00113057 0.00107565 0.00014579 0.0014748\n",
      " 0.00065424 0.01536822 0.00105253]\n",
      "Cost of SAG after convergence:  0.334526652151493\n",
      "Training time for SAG:  0.5724947452545166\n"
     ]
    }
   ],
   "source": [
    "#-------------------- SAG Solver -----------------------\n",
    "num_iters = 10000 # change the value\n",
    "start = time.time()\n",
    "sag = solver(x, y, w, alpha, num_iters, lambda_, epsilon, optimizer=\"SAG\", mem=False)\n",
    "end = time.time()\n",
    "print(\"Weights of SAG after convergence: \\n\", sag.flatten())\n",
    "\n",
    "cost_value = cost(X_test, Y_test, sag, lambda_)\n",
    "print(\"Cost of SAG after convergence: \", cost_value[0,0])\n",
    "print(\"Training time for SAG: \", end-start)"
   ]
  },
  {
   "cell_type": "code",
   "execution_count": null,
   "metadata": {},
   "outputs": [],
   "source": [
    "## Executing the iterations and plot the cost function here:\n",
    "I_max = 100\n",
    "ti= np.zeros((I_max,4))\n",
    "cost_= np.zeros((I_max,4))\n",
    "w = np.random.rand(D,1)*0.01\n",
    "for i in range(I_max):\n",
    "    print(\"......\",i,\".......\")\n",
    "    #--------------GD-------------------\n",
    "    start = time.time()\n",
    "    gd = solver(x, y, w, alpha, i+1, lambda_, epsilon, optimizer=\"GD\", mem=False)\n",
    "    end = time.time()\n",
    "\n",
    "    cost_[i,0] = cost(X_test, Y_test, gd, lambda_)\n",
    "\n",
    "    ti[i,0] = end-start\n",
    "\n",
    "    #---------------SGD------------------\n",
    "    start = time.time()\n",
    "    sgd = solver(x, y, w, alpha, i+1, lambda_, epsilon, optimizer=\"SGD\", mem=False)\n",
    "    end = time.time()\n",
    "\n",
    "    cost_[i,1] = cost(X_test, Y_test, sgd, lambda_)\n",
    "\n",
    "    ti[i,1] = end-start\n",
    "    \n",
    "    #---------------SVRG----------------\n",
    "    start = time.time()\n",
    "    svrg = solver(x, y, w, alpha, i+1, lambda_, epsilon, optimizer=\"SVRG\", mem=False)\n",
    "    end = time.time()\n",
    "\n",
    "    cost_[i,2] = cost(X_test, Y_test, svrg, lambda_)\n",
    "\n",
    "    ti[i,2] = end-start\n",
    "    \n",
    "    #---------------SAG------------------\n",
    "    start = time.time()\n",
    "    sag = solver(x, y, w, alpha, i+1, lambda_, epsilon, optimizer=\"SAG\", mem=False)\n",
    "    end = time.time()\n",
    "\n",
    "    cost_[i,3] = cost(X_test, Y_test, sag, lambda_)\n",
    "\n",
    "    ti[i,3] = end-start\n",
    "    \n",
    "    #------------------------------------\n",
    "    \n",
    "    ## Pl the results:\n",
    "    \n",
    "\n",
    "l0 = plt.plot(cost_[:,0],color=\"C3\")\n",
    "l1 = plt.plot(cost_[:,1],color=\"C2\")\n",
    "l2 = plt.plot(cost_[:,2],color=\"C1\")\n",
    "l3 = plt.plot(cost_[:,3],color=\"C0\")\n",
    "# complete other plots here: \n",
    "\n",
    "\n",
    "plt.xlabel(\"Number of Iteration\")\n",
    "plt.ylabel(\"Cost\")\n",
    "plt.legend(['GD', 'SGD', 'SVRG', 'SAG'])\n",
    "plt.show()\n",
    "\n",
    "l0 = plt.plot(ti[:,0],color=\"C3\")\n",
    "l1 = plt.plot(ti[:,1],color=\"C2\")\n",
    "l2 = plt.plot(ti[:,2],color=\"C1\")\n",
    "l3 = plt.plot(ti[:,3],color=\"C0\")\n",
    "# complete other plots here:\n",
    "\n",
    "plt.xlabel(\"Number of Iteration\")\n",
    "plt.ylabel(\"Time (sec)\")\n",
    "plt.legend(['GD', 'SGD', 'SVRG', 'SAG'])\n",
    "plt.show()"
   ]
  },
  {
   "cell_type": "code",
   "execution_count": 51,
   "metadata": {},
   "outputs": [
    {
     "name": "stdout",
     "output_type": "stream",
     "text": [
      "...... 0 .......\n"
     ]
    },
    {
     "data": {
      "image/png": "[encoded data removed]",
      "text/plain": [
       "<Figure size 432x288 with 1 Axes>"
      ]
     },
     "metadata": {
      "needs_background": "light"
     },
     "output_type": "display_data"
    }
   ],
   "source": [
    "## Executing the iterations and plot the cost function here:\n",
    "n_sims = 1\n",
    "I_max = 1000\n",
    "ti= np.zeros((I_max,4))\n",
    "cost_= np.zeros((I_max,4))\n",
    "for n in range(n_sims):\n",
    "    w = np.random.rand(D,1)*0.1\n",
    "    \n",
    "    print(\"......\",n,\".......\")\n",
    "    #--------------GD-------------------\n",
    "    gd, gd_cost  = solver(x, y, w, alpha, I_max, lambda_, epsilon, optimizer=\"GD\", mem=False, return_cost=True)\n",
    "\n",
    "    cost_[:,0] += gd_cost/n_sims\n",
    "\n",
    "    #---------------SGD------------------\n",
    "    sgd, sgd_cost = solver(x, y, w, alpha, I_max, lambda_, epsilon, optimizer=\"SGD\", mem=False, return_cost=True)\n",
    "\n",
    "    cost_[:,1] += sgd_cost/n_sims\n",
    "    \n",
    "    #---------------SVRG----------------\n",
    "    svrg, svrg_cost = solver(x, y, w, alpha, I_max, lambda_, epsilon, optimizer=\"SVRG\", mem=False, return_cost=True)\n",
    "\n",
    "    cost_[:,2] += svrg_cost/n_sims\n",
    "    \n",
    "    #---------------SAG------------------\n",
    "    sag, sag_cost = solver(x, y, w, alpha, I_max, lambda_, epsilon, optimizer=\"SAG\", mem=False, return_cost=True)\n",
    "    \n",
    "    cost_[:,3] += sag_cost/n_sims\n",
    "    \n",
    "    #------------------------------------\n",
    "## PLOTs\n",
    "l0 = plt.plot(cost_[:,0],color=\"C3\")\n",
    "l1 = plt.plot(cost_[:,1],color=\"C2\")\n",
    "l2 = plt.plot(cost_[:,2],color=\"C1\")\n",
    "l3 = plt.plot(cost_[:,3],color=\"C0\")\n",
    "# complete other plots here: \n",
    "\n",
    "plt.xlabel(\"Number of Iteration\")\n",
    "plt.ylabel(\"Cost\")\n",
    "plt.legend(['GD', 'SGD', 'SVRG', 'SAG'])\n",
    "plt.show()"
   ]
  },
  {
   "cell_type": "code",
   "execution_count": 52,
   "metadata": {},
   "outputs": [
    {
     "data": {
      "text/plain": [
       "(0, 1)"
      ]
     },
     "execution_count": 52,
     "metadata": {},
     "output_type": "execute_result"
    },
    {
     "data": {
      "image/png": "[encoded data removed]",
      "text/plain": [
       "<Figure size 432x288 with 1 Axes>"
      ]
     },
     "metadata": {
      "needs_background": "light"
     },
     "output_type": "display_data"
    }
   ],
   "source": [
    "## PLOTs\n",
    "l0 = plt.plot(cost_[:,0],color=\"C3\")\n",
    "l1 = plt.plot(cost_[:,1],color=\"C2\")\n",
    "l2 = plt.plot(cost_[:,2],color=\"C1\")\n",
    "l3 = plt.plot(cost_[:,3],color=\"C0\")\n",
    "# complete other plots here: \n",
    "\n",
    "plt.xlabel(\"Number of Iteration\")\n",
    "plt.ylabel(\"Cost\")\n",
    "plt.legend(['GD', 'SGD', 'SVRG', 'SAG'])\n",
    "\n",
    "plt.ylim(0, 1)"
   ]
  },
  {
   "cell_type": "code",
   "execution_count": null,
   "metadata": {},
   "outputs": [],
   "source": [
    "## Tunning the hyper-paramter here:"
   ]
  },
  {
   "cell_type": "code",
   "execution_count": null,
   "metadata": {},
   "outputs": [],
   "source": [
    "## Comparing different optimizers here: "
   ]
  }
 ],
 "metadata": {
  "kernelspec": {
   "display_name": "Python 3",
   "language": "python",
   "name": "python3"
  },
  "language_info": {
   "codemirror_mode": {
    "name": "ipython",
    "version": 3
   },
   "file_extension": ".py",
   "mimetype": "text/x-python",
   "name": "python",
   "nbconvert_exporter": "python",
   "pygments_lexer": "ipython3",
   "version": "3.6.7"
  }
 },
 "nbformat": 4,
 "nbformat_minor": 2
}
