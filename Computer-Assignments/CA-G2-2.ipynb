{
 "cells": [
  {
   "cell_type": "markdown",
   "metadata": {},
   "source": [
    "# Computer Assignment 2, by Group 2\n",
    "Ali Bemani\n",
    "\n",
    "Oscar Bautista Gonzalez\n",
    "\n",
    "Martin Hellkvist"
   ]
  },
  {
   "cell_type": "markdown",
   "metadata": {},
   "source": [
    "## Summary of results\n",
    "The implementations of GD, SGD, SVRG and SAG are all working fine.\n",
    "### Stepsize\n",
    "Comprehensive summary of choice of stepsize as a function of $L$ ($\\lambda=0.01$):\n",
    "* $\\alpha= \\dfrac{1}{L}$ (See Figure 1):\n",
    "    * GD: Converges. Goes beneath 0.25 around 500 iterations. Continues to decrease to end cost approximately 0.24 after 20000 iterations.\n",
    "    * SGD: Large variance in gradients estimates, difficult to determine convergence.\n",
    "    * SVRG: Same as for SGD.\n",
    "    * SAG: Has a lower noise component by that the algorithm decreases the variance of the gradient estimates. The noise appears as a slow fluctuation over the iterations, as opposed to SGD and SVRG, where the noise has abrupt jumps between each iteration. Here we could implement some nice stop criterion to stop at a low point in the cost.\n",
    "* $\\alpha= \\dfrac{1}{16L}$ (See Figure 2):\n",
    "    * GD: Converges. Cost beneath 0.26 around 500 iterations. Continues to decrease, cost very close to of 0.25 after 20000 iterations.\n",
    "    * SGD: The envelope of the cost follows the cost of GD, but has some noise on top of it due to variance in the gradient estimates.\n",
    "    * SVRG: Similiar to SGD, but the noise seems slightly lower (to the eye).\n",
    "    * SAG: The slow oscillatory behviour is still present, but the variation is slower over the iterations. The magnitude of the oscillations are unchanged.\n",
    "    \n",
    "For GD there seems to be no gain in decreasing the step size.\n",
    "For SGD and SVRG, the noise level of the cost is much decreased by the lower step size.\n",
    "The gain for SAG of decreasing the step size was that the oscillations were slower, we do not notice any major effect on the convergence.\n",
    "\n",
    "### Regularization\n",
    "With a larger regularization coefficient of $\\lambda=10$, the overall convergence behaviour is the same for the two step size.\n",
    "The main difference is for GD, which converges to its end cost around iteration 500. \n",
    "The end cost is higher for a larger $\\lambda$, thus the cost level that SGD and SVRG varies about is higher.\n",
    "\n",
    "### Time consumption\n",
    "We measured the consumed time for the 4 different methods. In Figure 3 there is a plot with the time consumed versus the number of iterations.\n",
    "From slowest to quickest, the methods are (and their consumed time for 500 iterations):\n",
    "1. GD    (1051.0 ms)\n",
    "2. SAG   (68.8 ms)\n",
    "3. SVRG  (21.9 ms)\n",
    "4. SGD   (15.0 ms)\n",
    "\n",
    "We conclude that GD is much slower than the other methods.\n",
    "### Hyperparameter tuning\n",
    "Because we can compute the smoothness $L$, and setting the stepsize to $1/L$, it is very simple to get GD up and running.\n",
    "For SGD and SVRG, it seems that we need to have another scaling on $L$ to get low variance in the gradient estimates.\n",
    "\n",
    "In our experiments we used only 10000 datapoints for training and testing. \n",
    "Increasing this number to say 100000, makes the runtime of the methods slow, and finding a good stepsize will take more time for SGD and SVRG.\n",
    "\n",
    "The SAG method worked well for both step sizes $1/L$ and $1/(16L)$.\n",
    "\n",
    "### Memory usage\n",
    "To see the memory usage with \"resource\" package, one needs to run this notebook on a linux machine. For example google colab, if you are not running Linux locally.\n",
    "We ran the methods in the following order: SGD; SAG; SVRG; GD. \n",
    "The memory used by the session during the run of each method was:\n",
    "* SGD: \n",
    "    * 813.318144 mb\n",
    "* SAG: \n",
    "    * 823.525376 mb\n",
    "* SVRG:\n",
    "    * 827.850752 mb\n",
    "* GD:\n",
    "    * 828.932096 mb\n",
    "    \n",
    "We conclude that running SGD can use around 10 megabytes of memory less than the other three methods.\n",
    "\n",
    "### Stop condition\n",
    "We do not make use of the stop condition $\\varepsilon$ because we investigate both the short- and long term behviour of the methods."
   ]
  },
  {
   "cell_type": "markdown",
   "metadata": {},
   "source": [
    "## Implementation"
   ]
  },
  {
   "cell_type": "code",
   "execution_count": 1,
   "metadata": {},
   "outputs": [
    {
     "name": "stdout",
     "output_type": "stream",
     "text": [
      "Failed on importing 'resource' package\n"
     ]
    }
   ],
   "source": [
    "##imports from libraries\n",
    "import pandas as pd\n",
    "import numpy as np\n",
    "import time\n",
    "import math\n",
    "import sys\n",
    "import matplotlib.pyplot as plt\n",
    "\n",
    "from sklearn.model_selection import train_test_split\n",
    "from IPython.core.debugger import set_trace\n",
    "\n",
    "\n",
    "# the \"resource\" library is not available on windows. \n",
    "# if it can be imported, we can use it! For example, while running on google colab\n",
    "try:\n",
    "    import resource\n",
    "    print(\"Succesfully imported 'resource' package\")\n",
    "except:\n",
    "    print(\"Failed on importing 'resource' package\")"
   ]
  },
  {
   "cell_type": "markdown",
   "metadata": {},
   "source": [
    "### Load the data:\n",
    "We first load the data into ghgdata. We will only use 10000 data points in this implementation, so its enough to use 70 files."
   ]
  },
  {
   "cell_type": "code",
   "execution_count": 2,
   "metadata": {},
   "outputs": [],
   "source": [
    "N_sites = 70\n",
    "N_cols = 327\n",
    "dghg = 15\n",
    "Nghg = N_sites * N_cols\n",
    "ghgdata = np.zeros((dghg+1, Nghg))\n",
    "\n",
    "pathprefix = \"./Data/ghg_data/ghg_data/ghg.gid.site\"\n",
    "for i in range(N_sites):\n",
    "    filename = pathprefix + str(i + 1).zfill(4) + \".dat\"\n",
    "    subdata = np.genfromtxt(filename, delimiter=\" \")\n",
    "    ghgdata[:,i*N_cols:(i+1)*N_cols] = subdata\n",
    "\n",
    "ghgdata = ghgdata.T"
   ]
  },
  {
   "cell_type": "markdown",
   "metadata": {},
   "source": [
    "### Define function to find the smoothness $L$ of the cost function, given a dataset:\n",
    "We have that for $L$ to guarantee L-smoothness of $f(w)$, it must fulfill the following inequality:\n",
    "$$ L \\succcurlyeq \\frac{1}{4N} \\sum_i y_i^2 x_i x_i^T + 2\\lambda  $$\n",
    "$$  = \\frac{1}{4N} Z^T Z +2\\lambda, $$\n",
    "$$ Z = \\begin{bmatrix}y_1 x_1^T \\\\ \\vdots\\\\ y_N x_N^T\\end{bmatrix}.$$\n",
    "\n",
    "Which is equivalent to $L \\geq \\frac{1}{4N}\\lambda_{\\max}(Z^T Z) + 2\\lambda $, where $\\lambda_{\\max}(Z^T Z)$ is the largest eigenvalue of $Z^T Z$.\n",
    "\n",
    "We implement the finding of the smallest $L$ in the function ``find_smoothness()``."
   ]
  },
  {
   "cell_type": "code",
   "execution_count": 3,
   "metadata": {},
   "outputs": [],
   "source": [
    "def find_smoothness(X, Y, lambda_):\n",
    "    # finds smallest L to guarantee L-smoothness of the Logistic Ridge Regression, given data X, Y\n",
    "    # we have found it analytically as the largest eigenvalue of (1/(4N)) * Z.T @ Z + 2 * lambda.\n",
    "    \n",
    "    N, d = X.shape\n",
    "    assert Y.shape == (N,1)\n",
    "    \n",
    "    YX = Y * X\n",
    "    Z = YX.T @ YX\n",
    "    eigs, _ = np.linalg.eig((1/(4*N))*Z)\n",
    "    L = np.max(eigs) + 2*lambda_\n",
    "    \n",
    "    return L"
   ]
  },
  {
   "cell_type": "markdown",
   "metadata": {},
   "source": [
    "### Preprocessing of data..."
   ]
  },
  {
   "cell_type": "markdown",
   "metadata": {},
   "source": [
    "### Preprocessing of the response variable\n",
    "We use the first 15 variables of the data as inputs $x_i$, and the 16th row as output.\n",
    "We found that using the raw output data came with some numerical issues, due to the products $y_i x_i$ being very large quite often.\n",
    "We therefore threshold the output data into a binary variable in $\\{-1,+1\\}$.\n",
    "\n",
    "We here load the ``ghgdata`` into ``X`` and ``Y`` matrices, and perform the thresholding on the ``Y`` matrix.\n",
    "\n",
    "The plots show histograms of ``Y`` before and after thresholding."
   ]
  },
  {
   "cell_type": "code",
   "execution_count": 4,
   "metadata": {},
   "outputs": [
    {
     "data": {
      "image/png": "[encoded data removed]",
      "text/plain": [
       "<Figure size 432x288 with 1 Axes>"
      ]
     },
     "metadata": {
      "needs_background": "light"
     },
     "output_type": "display_data"
    },
    {
     "data": {
      "image/png": "[encoded data removed]",
      "text/plain": [
       "<Figure size 432x288 with 1 Axes>"
      ]
     },
     "metadata": {
      "needs_background": "light"
     },
     "output_type": "display_data"
    }
   ],
   "source": [
    "X = ghgdata[:, 0:dghg]\n",
    "Y = ghgdata[:, [dghg]]\n",
    "plt.figure(1)\n",
    "_ = plt.hist(Y, bins=100)\n",
    "\n",
    "# threshold Y to binary\n",
    "threshold = 30\n",
    "mask = Y < threshold\n",
    "Y[mask] = -1\n",
    "Y[~mask] = 1\n",
    "plt.figure(2)\n",
    "_ = plt.hist(Y)"
   ]
  },
  {
   "cell_type": "markdown",
   "metadata": {},
   "source": [
    "### Split data into training and testing datasets\n",
    "We are not really interested in finding a good classifier of the data, but only to verify our implementation of GD, SGD, SVRG and SAG.\n",
    "Therefore we limit the simulations to only 10000 datapoints for training, to decrease the run time. We use 1000 data points for testing."
   ]
  },
  {
   "cell_type": "code",
   "execution_count": 5,
   "metadata": {},
   "outputs": [],
   "source": [
    "# Split train and test data here: (X_train, Y_train, X_test, Y_test)\n",
    "N_train = 10000\n",
    "N_test = 1000\n",
    "\n",
    "# train_idx = np.random.choice(Nghg, size=N_train, replace=False)\n",
    "train_idx = np.arange(N_train)\n",
    "X_train = X[train_idx, :]\n",
    "Y_train = Y[train_idx]\n",
    "\n",
    "# test_idx_bool = ~np.isin(np.arange(Nghg), train_idx)\n",
    "test_idx = np.arange(N_train, N_train + N_test)\n",
    "X_test = X[test_idx, :]\n",
    "Y_test = Y[test_idx]"
   ]
  },
  {
   "cell_type": "markdown",
   "metadata": {},
   "source": [
    "## Implementing Cost and Gradient functions\n",
    "#### The logistic ridge regression\n",
    "$$ f(x) = \\frac{1}{N}\\sum_{i\\in[N]} f_i(x) + \\lambda\\lVert w \\rVert_2^2 $$\n",
    "has the gradient: \n",
    "$$ \\nabla f(x) = \\frac{1}{N}\\sum_{i\\in[N]} \\nabla f_i(x) + 2\\lambda w, $$\n",
    "$$ \\nabla f_i(x) = -y_i x_i \\frac{e^{-y_ix_i^T w}}{1 + e^{-y_ix_i^T w}} = -y_i x_i \\frac{1}{1 + e^{y_i x_i^T w}}.$$\n",
    "We use the latter form for computing gradients, since it has better numerical stability (the exponent can take \"inf\" values, thus the former form is undefined, while the latter is identically zero).\n",
    "\n",
    "We define the gradient estimate for data point $i$ including regularization as:\n",
    "$$  \\hat{g}_i(w) = \\nabla f_i(w) + 2\\lambda w.$$\n",
    "\n",
    "The ``cost()`` function is an implementation of $f(w)$.\n",
    "The ``function_gradient()`` is an implementation of $\\nabla f(w)$, given ``X, Y`` and ``w``."
   ]
  },
  {
   "cell_type": "code",
   "execution_count": 6,
   "metadata": {},
   "outputs": [],
   "source": [
    "def cost(x, y, w, lambda_ = 0.01):\n",
    "    N, d = x.shape\n",
    "    value = np.sum(np.log(1 + np.exp(- y*x @ w)))\n",
    "    norm_w = np.linalg.norm(w)\n",
    "    c = lambda_ * norm_w ** 2\n",
    "    return value/N + c \n",
    "\n",
    "def function_gradient(X, Y, w, lambda_):\n",
    "    N, d = X.shape\n",
    "    assert Y.shape == (N,1)\n",
    "    assert w.shape == (d,1)\n",
    "    output = np.zeros((N,1))\n",
    "    YX = Y * X # (N,d)\n",
    "    YXw = YX @ w # (N,1)\n",
    "    exp_vec = 1/(1 + np.exp(YXw)) # (N,1)\n",
    "    grad_array = -YX * exp_vec # (N,d)\n",
    "    output = np.sum(grad_array, axis=0) # (1,d)\n",
    "    output = (1/N) * output.reshape(d,1) + 2 * lambda_ * w # (d,1)\n",
    "    return output # (d,1)"
   ]
  },
  {
   "cell_type": "markdown",
   "metadata": {},
   "source": [
    "### Implementing the gradient methods"
   ]
  },
  {
   "cell_type": "code",
   "execution_count": 12,
   "metadata": {},
   "outputs": [],
   "source": [
    "def solver(x, y, w, alpha, num_iters, lambda_, epsilon, optimizer = \"GD\", mem=False, return_cost=False, verbose=True):\n",
    "    if (optimizer == \"GD\"):\n",
    "        cost_ = np.zeros(num_iters)\n",
    "        for i in range(num_iters):\n",
    "            g = function_gradient(x, y, w, lambda_) # compute the exact gradient wrt w, given x and y\n",
    "            w = w - alpha * g # GD update\n",
    "            \n",
    "            if return_cost:\n",
    "                cost_[i] = cost(X_test, Y_test, w, lambda_)\n",
    "            \n",
    "            if (i%10==0) and (mem) and ('resource' in sys.modules) and (verbose):\n",
    "                usage=resource.getrusage(resource.RUSAGE_SELF)\n",
    "                print(\"mem for GD (mb):\", (usage[2]*resource.getpagesize())/1000000.0)\n",
    "                        \n",
    "            if (np.linalg.norm(g) <= epsilon):\n",
    "                print(\"GD: Stop on condition fulfilled! Number of iterations: \", i+1, \"/\", num_iters)\n",
    "                break\n",
    "        if verbose:\n",
    "            print(\"GD: Number of iterations: \", num_iters, \"/\", num_iters)\n",
    "            print(\"GD: final norm: \", np.linalg.norm(g))\n",
    "                \n",
    "    elif (optimizer == \"SGD\"):\n",
    "        cost_ = np.zeros(num_iters)\n",
    "        N, d = x.shape\n",
    "        assert y.shape == (N,1)\n",
    "        for i in range(num_iters):\n",
    "            i_ = int(N*np.random.rand(1))\n",
    "            x_ = x[[i_], :]\n",
    "            y_ = y[[i_], :]\n",
    "            \n",
    "            g = function_gradient(x_, y_, w, lambda_) # compute gradient\n",
    "            w = w - alpha * g # GD update \n",
    "            \n",
    "            if return_cost:\n",
    "                cost_[i] = cost(X_test, Y_test, w, lambda_)\n",
    "            \n",
    "            if (i%10==0) and (mem) and ('resource' in sys.modules) and (verbose):\n",
    "                usage=resource.getrusage(resource.RUSAGE_SELF)\n",
    "                print(\"mem for SGD (mb):\", (usage[2]*resource.getpagesize())/1000000.0)\n",
    "                \n",
    "    elif (optimizer == \"SVRG\"):\n",
    "        N, d = x.shape\n",
    "        assert y.shape == (N,1)\n",
    "        \n",
    "        T = 1000 # epoch length\n",
    "        K = math.floor(num_iters/T) # number of epochs, given number of iterations\n",
    "        \n",
    "        if K == 0:\n",
    "            # only run for one epoch consisting of num_iters iterations\n",
    "            K = 1\n",
    "            T = num_iters\n",
    "        if verbose:\n",
    "            print(\"number of epochs: \", K)\n",
    "        cost_ = np.zeros(T*K)\n",
    "        \n",
    "        for k in range(K):\n",
    "            yx = y * x # (N, d)\n",
    "            yxw = yx @ w # (N, 1)\n",
    "            \n",
    "            assert yx.shape == (N, d)\n",
    "            assert yxw.shape == (N, 1)\n",
    "            \n",
    "            # G_ is equal to using function_gradient, but we need G_vec, so we compute it manually here\n",
    "            exp_vec = 1/(1 + np.exp(yxw)) # (N, 1)\n",
    "            \n",
    "            G_vec = (-yx * exp_vec).reshape(d, N) + 2*lambda_*w # (d, N)\n",
    "                                    \n",
    "            G_ = (1/N) * np.sum(G_vec, axis=1, keepdims=1) # (d, 1)\n",
    "            if (np.linalg.norm(G_) <= epsilon): # check the average gradient\n",
    "                print(\"SVRG: Stop on condition fulfilled! Number of iterations: \", k*t, \"/\", num_iters)\n",
    "                break\n",
    "            \n",
    "            assert G_vec.shape == (d, N)\n",
    "            assert G_.shape == (d, 1)\n",
    "            \n",
    "            for t in range(T):\n",
    "                i_ = int(N*np.random.rand(1))\n",
    "                x_ = x[[i_], :] # (1, d)\n",
    "                y_ = y[[i_], :] # (1, 1)\n",
    "                g = function_gradient(x_, y_, w, lambda_) # (d, 1)\n",
    "                assert g.shape == (d,1)\n",
    "                assert G_vec[:, [i_]].shape == (d,1)\n",
    "                assert G_.shape == (d,1)\n",
    "                w = w - alpha*(g - G_vec[:, [i_]] + G_)\n",
    "                \n",
    "                if return_cost:\n",
    "                    cost_[t + k*T] = cost(X_test, Y_test, w, lambda_)\n",
    "                    \n",
    "                if (t%10==0) and (mem) and ('resource' in sys.modules) and (verbose):\n",
    "                    usage=resource.getrusage(resource.RUSAGE_SELF)\n",
    "                    print(\"mem for SVRG (mb):\", (usage[2]*resource.getpagesize())/1000000.0)\n",
    "                    \n",
    "        if (K > 0) and (verbose):\n",
    "            print(\"SVRG: final norm: \", np.linalg.norm(g))\n",
    "            \n",
    "    elif (optimizer == \"SAG\"):\n",
    "        N, d = x.shape\n",
    "        assert y.shape == (N,1)\n",
    "        \n",
    "        # compute initial gradient estimates for all datapoints\n",
    "        yx = y * x # (N, d)\n",
    "        yxw = yx @ w # (N, 1)\n",
    "        exp_vec = 1/(1 + np.exp(yxw)) # (N, 1)\n",
    "        G_vec = np.zeros((d, N))\n",
    "        cost_ = np.zeros(num_iters)\n",
    "        g_avg = np.zeros((d,1))\n",
    "        for k in range(num_iters):\n",
    "            i_ = int(N*np.random.rand(1))\n",
    "            x_ = x[[i_], :] # (1, d)\n",
    "            y_ = y[[i_], :] # (1, 1)\n",
    "            g = function_gradient(x_, y_, w, lambda_) # (d, 1)\n",
    "            g_avg = g_avg - G_vec[:, [i_]] + g\n",
    "            G_vec[:, [i_]] = g # (d, N)\n",
    "            w = w - (alpha/N) * g_avg\n",
    "            if return_cost:\n",
    "                cost_[k] = cost(X_test, Y_test, w, lambda_)\n",
    "                \n",
    "            if (np.linalg.norm(g) <= epsilon):\n",
    "                    print(\"SAG: Stop on condition fulfilled! Number of iterations: \", k, \"/\", num_iters)\n",
    "                    break\n",
    "                    \n",
    "            if (k%10==0) and (mem) and ('resource' in sys.modules) and (verbose):\n",
    "                    usage=resource.getrusage(resource.RUSAGE_SELF)\n",
    "                    print(\"mem for SAG (mb):\", (usage[2]*resource.getpagesize())/1000000.0)\n",
    "        if verbose:\n",
    "            print(\"final norm: \", np.linalg.norm(g))\n",
    "    if return_cost:\n",
    "        return w, cost_\n",
    "    else:\n",
    "        return w"
   ]
  },
  {
   "cell_type": "markdown",
   "metadata": {},
   "source": [
    "### Setting the constant stepsize\n",
    "In these implementations we are using constant stepsize."
   ]
  },
  {
   "cell_type": "markdown",
   "metadata": {},
   "source": [
    "We set regularization $\\lambda=0.01$."
   ]
  },
  {
   "cell_type": "markdown",
   "metadata": {},
   "source": [
    "We set the step size as $\\alpha=\\dfrac{1}{aL}$ where we set $a=16$ to upscale the smoothness factor we found.\n",
    "If we have $a=1$, i.e., $\\alpha=\\dfrac{1}{L}$, the gradient estimates found by SGD and SVRG become very noisy."
   ]
  },
  {
   "cell_type": "code",
   "execution_count": 8,
   "metadata": {},
   "outputs": [],
   "source": [
    "lambda_ = 0.01\n",
    "epsilon = 0"
   ]
  },
  {
   "cell_type": "markdown",
   "metadata": {},
   "source": [
    "Load ``Y_train`` and ``X_train`` into ``y`` and ``x``.\n",
    "Initial guess ``w``:"
   ]
  },
  {
   "cell_type": "code",
   "execution_count": 9,
   "metadata": {},
   "outputs": [
    {
     "name": "stdout",
     "output_type": "stream",
     "text": [
      "x:  (10000, 15)\n",
      "y:  (10000, 1)\n"
     ]
    }
   ],
   "source": [
    "y = Y_train\n",
    "x = X_train\n",
    "print(\"x: \", x.shape)\n",
    "print(\"y: \", y.shape)\n",
    "N, d = x.shape\n",
    "w = np.random.rand(d,1)*0.01  # Initialization of w"
   ]
  },
  {
   "cell_type": "code",
   "execution_count": 10,
   "metadata": {
    "scrolled": true
   },
   "outputs": [
    {
     "name": "stdout",
     "output_type": "stream",
     "text": [
      "L:  4498.793513176702\n",
      "alpha = 1/(1*L):  0.00022228181779649562\n"
     ]
    }
   ],
   "source": [
    "L = find_smoothness(x, y, lambda_)\n",
    "print(\"L: \", L)\n",
    "a = 1\n",
    "alpha = 1/(a*L)\n",
    "alpha_string = \"alpha = 1/({0}*L)\".format(a) + \": \"\n",
    "print(alpha_string, alpha)"
   ]
  },
  {
   "cell_type": "markdown",
   "metadata": {},
   "source": [
    "### Trial runs for the methods"
   ]
  },
  {
   "cell_type": "code",
   "execution_count": 11,
   "metadata": {},
   "outputs": [
    {
     "name": "stdout",
     "output_type": "stream",
     "text": [
      "0.00022228181779649562\n",
      "GD: Number of iterations:  1000 / 1000\n",
      "GD: final norm:  0.18394461876382295\n",
      "Weights of GD after convergence: \n",
      " [ 0.00453573  0.00255239 -0.00062067  0.00557415  0.006266    0.00667566\n",
      " -0.02119499 -0.0043979  -0.00661011  0.0052753  -0.01824091  0.02136091\n",
      " -0.0022253   0.02438812 -0.02650114]\n",
      "Cost of GD after convergence:  0.24704424701715275\n",
      "Training time for GD:  5.234012842178345\n"
     ]
    }
   ],
   "source": [
    "#-------------------- GD Solver -----------------------\n",
    "print(alpha)\n",
    "num_iters = 1000 # change the value\n",
    "start = time.time()\n",
    "gd = solver(x, y, w, alpha, num_iters, lambda_, epsilon, optimizer = \"GD\", mem=False)\n",
    "end = time.time()\n",
    "print(\"Weights of GD after convergence: \\n\", gd.flatten())\n",
    "cost_value = cost(X_test, Y_test, gd, lambda_) \n",
    "print(\"Cost of GD after convergence: \", cost_value)\n",
    "\n",
    "print(\"Training time for GD: \", end-start)"
   ]
  },
  {
   "cell_type": "code",
   "execution_count": 12,
   "metadata": {},
   "outputs": [
    {
     "name": "stdout",
     "output_type": "stream",
     "text": [
      "Weights of SGD after convergence: \n",
      " [ 0.00472768  0.00466534  0.00420877  0.00619729  0.00651086  0.00673204\n",
      "  0.00562456  0.0020217   0.00116507  0.0054463   0.00114349  0.02058684\n",
      "  0.0042722   0.03016426 -0.00253176]\n",
      "Cost of SGD after convergence:  0.24996271707742423\n",
      "Training time for SGD:  0.01548457145690918\n"
     ]
    }
   ],
   "source": [
    "#-------------------- SGD Solver -----------------------\n",
    "num_iters = 100 # change the value\n",
    "start = time.time()\n",
    "sgd = solver(x, y, w, alpha, num_iters, lambda_, epsilon, optimizer = \"SGD\", mem=False)\n",
    "end = time.time()\n",
    "print(\"Weights of SGD after convergence: \\n\", sgd.flatten())\n",
    "\n",
    "cost_value = cost(X_test, Y_test, sgd, lambda_)  # Calculate the cost value\n",
    "print(\"Cost of SGD after convergence: \", cost_value)\n",
    "\n",
    "print(\"Training time for SGD: \", end-start)"
   ]
  },
  {
   "cell_type": "code",
   "execution_count": 13,
   "metadata": {},
   "outputs": [
    {
     "name": "stdout",
     "output_type": "stream",
     "text": [
      "number of epochs:  10\n",
      "SVRG: final norm:  4.343510986408538\n",
      "\n",
      "Weights of SVRG after convergence: \n",
      " [-0.06053231  0.03491096 -0.055736   -0.03119001  0.01503698 -0.04203023\n",
      " -0.27251908  0.08760234  0.1468727  -0.06230469  0.00047315  0.04854225\n",
      "  0.00302259  0.04660175 -0.10251359]\n",
      "Cost of SVRG after convergence:  0.2669655773441332\n",
      "Training time for SVRG:  1.2356970310211182\n"
     ]
    }
   ],
   "source": [
    "#-------------------- SVRG Solver -----------------------\n",
    "num_iters = 10000 # change the value\n",
    "start = time.time()\n",
    "svrg = solver(x, y, w, alpha, num_iters, lambda_, epsilon, optimizer=\"SVRG\", mem=False)\n",
    "end = time.time()\n",
    "print(\"\\nWeights of SVRG after convergence: \\n\", svrg.flatten())\n",
    "\n",
    "cost_value = cost(X_test, Y_test, svrg, lambda_)\n",
    "print(\"Cost of SVRG after convergence: \", cost_value)\n",
    "print(\"Training time for SVRG: \", end-start)"
   ]
  },
  {
   "cell_type": "code",
   "execution_count": null,
   "metadata": {},
   "outputs": [],
   "source": [
    "#-------------------- SAG Solver -----------------------\n",
    "num_iters = 10000 # change the value\n",
    "start = time.time()\n",
    "sag = solver(x, y, w, alpha, num_iters, lambda_, epsilon, optimizer=\"SAG\", mem=False)\n",
    "end = time.time()\n",
    "print(\"Weights of SAG after convergence: \\n\", sag.flatten())\n",
    "\n",
    "cost_value = cost(X_test, Y_test, sag, lambda_)\n",
    "print(\"Cost of SAG after convergence: \", cost_value)\n",
    "print(\"Training time for SAG: \", end-start)"
   ]
  },
  {
   "cell_type": "markdown",
   "metadata": {},
   "source": [
    "### Here we create the plots interesting for the results\n",
    "#### The displayed cost is the cost on the test data set X_test, Y_test"
   ]
  },
  {
   "cell_type": "code",
   "execution_count": 13,
   "metadata": {},
   "outputs": [
    {
     "name": "stdout",
     "output_type": "stream",
     "text": [
      "alpha = 1/(1*L):  0.00022228181779649562\n",
      "...... 1 .......\n"
     ]
    }
   ],
   "source": [
    "## Executing the iterations and plot the cost function here:\n",
    "a = 1\n",
    "alpha = 1/(a*L)\n",
    "alpha_string = \"alpha = 1/({0}*L)\".format(a) + \": \"\n",
    "print(alpha_string, alpha)\n",
    "\n",
    "n_sims = 1\n",
    "I_max = 20000\n",
    "cost_1= np.zeros((I_max,4))\n",
    "for n in range(n_sims):\n",
    "    w = np.random.rand(d,1)*0.01\n",
    "    \n",
    "    print(\"......\",n+1,\".......\")\n",
    "    #--------------GD-------------------\n",
    "    gd, gd_cost  = solver(x, y, w, alpha, I_max, lambda_, epsilon, optimizer=\"GD\", mem=False, return_cost=True, verbose=False)\n",
    "\n",
    "    cost_1[:,0] += gd_cost/n_sims\n",
    "\n",
    "    #---------------SGD------------------\n",
    "    sgd, sgd_cost = solver(x, y, w, alpha, I_max, lambda_, epsilon, optimizer=\"SGD\", mem=False, return_cost=True, verbose=False)\n",
    "\n",
    "    cost_1[:,1] += sgd_cost/n_sims\n",
    "    \n",
    "    #---------------SVRG----------------\n",
    "    svrg, svrg_cost = solver(x, y, w, alpha, I_max, lambda_, epsilon, optimizer=\"SVRG\", mem=False, return_cost=True, verbose=False)\n",
    "\n",
    "    cost_1[:,2] += svrg_cost/n_sims\n",
    "    \n",
    "    #---------------SAG------------------\n",
    "    sag, sag_cost = solver(x, y, w, alpha, I_max, lambda_, epsilon, optimizer=\"SAG\", mem=False, return_cost=True, verbose=False)\n",
    "    \n",
    "    cost_1[:,3] += sag_cost/n_sims\n",
    "    \n",
    "    #------------------------------------"
   ]
  },
  {
   "cell_type": "code",
   "execution_count": 15,
   "metadata": {
    "scrolled": false
   },
   "outputs": [
    {
     "data": {
      "image/png": "[encoded data removed]",
      "text/plain": [
       "<Figure size 432x288 with 1 Axes>"
      ]
     },
     "metadata": {
      "needs_background": "light"
     },
     "output_type": "display_data"
    }
   ],
   "source": [
    "## PLOTs\n",
    "l1 = plt.plot(cost_1[:,1],color=\"C2\", label='SGD')\n",
    "l2 = plt.plot(cost_1[:,2],color=\"C1\", label='SVRG')\n",
    "l3 = plt.plot(cost_1[:,3],color=\"C0\", label='SAG')\n",
    "l0 = plt.plot(cost_1[:,0],color=\"C3\", label='GD')\n",
    "# complete other plots here: \n",
    "\n",
    "plt.xlabel(\"Number of Iteration\")\n",
    "plt.ylabel(\"Cost\")\n",
    "plt.legend()\n",
    "\n",
    "plt.ylim(0.235, .4)\n",
    "plt.xlim(0,20000)\n",
    "_ = plt.title('Figure 1: with stepsize 1/L')"
   ]
  },
  {
   "cell_type": "code",
   "execution_count": 16,
   "metadata": {},
   "outputs": [
    {
     "name": "stdout",
     "output_type": "stream",
     "text": [
      "alpha = 1/(16*L):  1.3892613612280977e-05\n",
      "...... 1 .......\n"
     ]
    }
   ],
   "source": [
    "## Executing the iterations and plot the cost function here:\n",
    "a = 16\n",
    "alpha = 1/(a*L)\n",
    "alpha_string = \"alpha = 1/({0}*L)\".format(a) + \": \"\n",
    "print(alpha_string, alpha)\n",
    "\n",
    "n_sims = 1\n",
    "I_max = 20000\n",
    "ti= np.zeros((I_max,4))\n",
    "cost_2= np.zeros((I_max,4))\n",
    "for n in range(n_sims):\n",
    "    w = np.random.rand(d,1)*0.01\n",
    "    \n",
    "    print(\"......\",n+1,\".......\")\n",
    "    #--------------GD-------------------\n",
    "    gd, gd_cost  = solver(x, y, w, alpha, I_max, lambda_, epsilon, optimizer=\"GD\", mem=False, return_cost=True, verbose=False)\n",
    "\n",
    "    cost_2[:,0] += gd_cost/n_sims\n",
    "\n",
    "    #---------------SGD------------------\n",
    "    sgd, sgd_cost = solver(x, y, w, alpha, I_max, lambda_, epsilon, optimizer=\"SGD\", mem=False, return_cost=True, verbose=False)\n",
    "\n",
    "    cost_2[:,1] += sgd_cost/n_sims\n",
    "    \n",
    "    #---------------SVRG----------------\n",
    "    svrg, svrg_cost = solver(x, y, w, alpha, I_max, lambda_, epsilon, optimizer=\"SVRG\", mem=False, return_cost=True, verbose=False)\n",
    "\n",
    "    cost_2[:,2] += svrg_cost/n_sims\n",
    "    \n",
    "    #---------------SAG------------------\n",
    "    sag, sag_cost = solver(x, y, w, alpha, I_max, lambda_, epsilon, optimizer=\"SAG\", mem=False, return_cost=True, verbose=False)\n",
    "    \n",
    "    cost_2[:,3] += sag_cost/n_sims\n",
    "    \n",
    "    #------------------------------------"
   ]
  },
  {
   "cell_type": "code",
   "execution_count": 18,
   "metadata": {},
   "outputs": [
    {
     "data": {
      "image/png": "[encoded data removed]",
      "text/plain": [
       "<Figure size 432x288 with 1 Axes>"
      ]
     },
     "metadata": {
      "needs_background": "light"
     },
     "output_type": "display_data"
    }
   ],
   "source": [
    "## PLOTs\n",
    "l1 = plt.plot(cost_2[:,1], color=\"C2\", label='SGD')\n",
    "l2 = plt.plot(cost_2[:,2], color=\"C1\", label='SVRG')\n",
    "l3 = plt.plot(cost_2[:,3], color=\"C0\", label='SAG')\n",
    "l0 = plt.plot(cost_2[:,0], color=\"C3\", label='GD')\n",
    "# complete other plots here: \n",
    "\n",
    "plt.xlabel(\"Number of Iteration\")\n",
    "plt.ylabel(\"Cost\")\n",
    "plt.legend()\n",
    "\n",
    "plt.ylim(0.24, .4)\n",
    "plt.xlim(0, 20000)\n",
    "_ = plt.title('Figure 2: with stepsize 1/(16*L)')"
   ]
  },
  {
   "cell_type": "code",
   "execution_count": null,
   "metadata": {},
   "outputs": [],
   "source": [
    "## Executing the iterations and plot the cost function here:\n",
    "I_max = 500\n",
    "ti= np.zeros((I_max,4))\n",
    "cost_= np.zeros((I_max,4))\n",
    "w = np.random.rand(d,1)*0.01\n",
    "for i in range(I_max):\n",
    "    print(\"......\",i,\".......\")\n",
    "    #--------------GD-------------------\n",
    "    start = time.time()\n",
    "    gd = solver(x, y, w, alpha, i+1, lambda_, epsilon, optimizer=\"GD\", mem=False)\n",
    "    end = time.time()\n",
    "\n",
    "    cost_[i,0] = cost(X_test, Y_test, gd, lambda_)\n",
    "\n",
    "    ti[i,0] = end-start\n",
    "\n",
    "    #---------------SGD------------------\n",
    "    start = time.time()\n",
    "    sgd = solver(x, y, w, alpha, i+1, lambda_, epsilon, optimizer=\"SGD\", mem=False)\n",
    "    end = time.time()\n",
    "\n",
    "    cost_[i,1] = cost(X_test, Y_test, sgd, lambda_)\n",
    "\n",
    "    ti[i,1] = end-start\n",
    "    \n",
    "    #---------------SVRG----------------\n",
    "    start = time.time()\n",
    "    svrg = solver(x, y, w, alpha, i+1, lambda_, epsilon, optimizer=\"SVRG\", mem=False)\n",
    "    end = time.time()\n",
    "\n",
    "    cost_[i,2] = cost(X_test, Y_test, svrg, lambda_)\n",
    "\n",
    "    ti[i,2] = end-start\n",
    "    \n",
    "    #---------------SAG------------------\n",
    "    start = time.time()\n",
    "    sag = solver(x, y, w, alpha, i+1, lambda_, epsilon, optimizer=\"SAG\", mem=False)\n",
    "    end = time.time()\n",
    "\n",
    "    cost_[i,3] = cost(X_test, Y_test, sag, lambda_)\n",
    "\n",
    "    ti[i,3] = end-start\n",
    "    \n",
    "    #------------------------------------\n",
    "    \n",
    "    ## Pl the results:\n",
    "    "
   ]
  },
  {
   "cell_type": "code",
   "execution_count": null,
   "metadata": {},
   "outputs": [],
   "source": [
    "l0 = plt.plot(ti[:,0],color=\"C3\",label=\"GD\")\n",
    "l1 = plt.plot(ti[:,1],color=\"C2\",label=\"SGD\")\n",
    "l2 = plt.plot(ti[:,2],color=\"C1\",label=\"SVRG\")\n",
    "l3 = plt.plot(ti[:,3],color=\"C0\",label=\"SAG\")\n",
    "# complete other plots here:\n",
    "\n",
    "plt.xlabel(\"Number of Iteration\")\n",
    "plt.ylabel(\"Time (sec)\")\n",
    "plt.legend()\n",
    "_ = plt.title('Figure 3: Time per nubmer of iterations.')\n",
    "\n",
    "print(ti[-1,:])"
   ]
  }
 ],
 "metadata": {
  "kernelspec": {
   "display_name": "Python 3",
   "language": "python",
   "name": "python3"
  },
  "language_info": {
   "codemirror_mode": {
    "name": "ipython",
    "version": 3
   },
   "file_extension": ".py",
   "mimetype": "text/x-python",
   "name": "python",
   "nbconvert_exporter": "python",
   "pygments_lexer": "ipython3",
   "version": "3.6.7"
  }
 },
 "nbformat": 4,
 "nbformat_minor": 2
}
